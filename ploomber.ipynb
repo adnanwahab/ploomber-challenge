{
 "cells": [
  {
   "cell_type": "code",
   "execution_count": 1,
   "id": "330de71a-209b-4374-80c8-4746c3c6b946",
   "metadata": {},
   "outputs": [
    {
     "name": "stdout",
     "output_type": "stream",
     "text": [
      "hello ploomber\n"
     ]
    }
   ],
   "source": [
    "print('hello ploomber')"
   ]
  },
  {
   "cell_type": "code",
   "execution_count": 2,
   "id": "45662070-10b6-4847-ac17-c90a0c1b0ae5",
   "metadata": {},
   "outputs": [
    {
     "name": "stdout",
     "output_type": "stream",
     "text": [
      "CONTAINER ID   IMAGE                        COMMAND                  CREATED      STATUS      PORTS     NAMES\n",
      "bbaabd1d94d8   irobotedu/create3-galactic   \"/ros_entrypoint.sh …\"   2 days ago   Up 2 days             romantic_lichterman\n"
     ]
    },
    {
     "data": {
      "text/plain": [
       "CompletedProcess(args=['docker', 'ps'], returncode=0)"
      ]
     },
     "execution_count": 2,
     "metadata": {},
     "output_type": "execute_result"
    }
   ],
   "source": [
    "import subprocess\n",
    "\n",
    "subprocess.run([\"docker\", \"ps\"])\n"
   ]
  },
  {
   "cell_type": "code",
   "execution_count": 7,
   "id": "c65dc2db-1592-4029-83b2-44ff89aaebe1",
   "metadata": {},
   "outputs": [
    {
     "data": {
      "text/plain": [
       "b'hello from docker!\\n'"
      ]
     },
     "execution_count": 7,
     "metadata": {},
     "output_type": "execute_result"
    }
   ],
   "source": [
    "#!pip install docker\n",
    "import docker\n",
    "client = docker.from_env()\n",
    "client.containers.run(\"ubuntu:latest\", \"echo hello from docker!\")"
   ]
  }
 ],
 "metadata": {
  "kernelspec": {
   "display_name": "Python 3 (ipykernel)",
   "language": "python",
   "name": "python3"
  },
  "language_info": {
   "codemirror_mode": {
    "name": "ipython",
    "version": 3
   },
   "file_extension": ".py",
   "mimetype": "text/x-python",
   "name": "python",
   "nbconvert_exporter": "python",
   "pygments_lexer": "ipython3",
   "version": "3.11.5"
  }
 },
 "nbformat": 4,
 "nbformat_minor": 5
}
